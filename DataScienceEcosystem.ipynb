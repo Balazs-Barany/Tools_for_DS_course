{
 "cells": [
  {
   "cell_type": "markdown",
   "id": "22e42684-2018-4e6b-99f3-9cab1129f736",
   "metadata": {},
   "source": [
    "# Data Science Tools and Ecosystem"
   ]
  },
  {
   "cell_type": "markdown",
   "id": "69088929-a4f5-4362-8325-92e847810cae",
   "metadata": {},
   "source": [
    "In this notebook, Data Science Tools and Ecosystem are summarized."
   ]
  },
  {
   "cell_type": "markdown",
   "id": "9e1a8475-b323-4c03-a8b9-36fb404235e8",
   "metadata": {},
   "source": [
    "**Objectives:**\n",
    "- List popular Data Science languages\n",
    "- List common libraries used by Data Scientist\n",
    "- Gather Data Science Tools in a table\n",
    "- Demonstrate arithmetic code used\n",
    "- Demonstrate "
   ]
  },
  {
   "cell_type": "markdown",
   "id": "168988e1-7df0-4948-9cb1-e11c8ac58b8b",
   "metadata": {},
   "source": [
    "Some of the popular languages that Data Scientists use are:\n",
    "1. Python\n",
    "2. R\n",
    "3. SQL\n",
    "4. Swift"
   ]
  },
  {
   "cell_type": "markdown",
   "id": "be67ab7e-3b29-440c-ba71-e7582937deba",
   "metadata": {},
   "source": [
    "Some of the commonly used libraries used by Data Scientist include:\n",
    "1. Scikit-learn\n",
    "2. TensorFlow\n",
    "3. Pandas\n",
    "4. NumPy\n",
    "5. OpenCV"
   ]
  },
  {
   "cell_type": "markdown",
   "id": "6727308d-65d8-4b81-b32d-b0b78a5efb38",
   "metadata": {},
   "source": [
    "| Data Science Tools |\n",
    "| ---|\n",
    "| Jupyter Notebooks |\n",
    "| R Studio |\n",
    "| Apache Spark |\n",
    "| TensorFlow |"
   ]
  },
  {
   "cell_type": "markdown",
   "id": "28199fc2-4d3c-4236-acb9-afe61748bfc3",
   "metadata": {},
   "source": [
    "### Below are a few examples of evaluating arithmetic expressions in Python."
   ]
  },
  {
   "cell_type": "code",
   "execution_count": 14,
   "id": "628d18c7-8f8c-4092-a647-c4df29b9e7ee",
   "metadata": {},
   "outputs": [
    {
     "data": {
      "text/plain": [
       "17"
      ]
     },
     "execution_count": 14,
     "metadata": {},
     "output_type": "execute_result"
    }
   ],
   "source": [
    "#This is asimple arithmetic expression to multiply then add integers.\n",
    "(3*4)+5"
   ]
  },
  {
   "cell_type": "code",
   "execution_count": 15,
   "id": "250763a6-f0d0-41cc-a4e6-be54b0a0036e",
   "metadata": {},
   "outputs": [
    {
     "name": "stdout",
     "output_type": "stream",
     "text": [
      "3.3333333333333335 hours in 200 minutes\n",
      "3 hours and 20 minutes in 200 minutes\n"
     ]
    }
   ],
   "source": [
    "#This will convert 200 minutes to hours by dividing by 60\n",
    "a=200/60\n",
    "print(str(a)+\" hours in 200 minutes\")\n",
    "b=200//60\n",
    "c=200%60\n",
    "print(str(b)+\" hours and \"+str(c)+\" minutes in 200 minutes\")"
   ]
  },
  {
   "cell_type": "markdown",
   "id": "a6727545-396e-4bc7-82d1-9e642a1ceeb1",
   "metadata": {},
   "source": [
    "## Author\n",
    "\n",
    "Balázs Bárány"
   ]
  },
  {
   "cell_type": "code",
   "execution_count": null,
   "id": "a3afbd05-095e-4266-ad0b-274f91228f98",
   "metadata": {},
   "outputs": [],
   "source": []
  }
 ],
 "metadata": {
  "kernelspec": {
   "display_name": "Python 3 (ipykernel)",
   "language": "python",
   "name": "python3"
  },
  "language_info": {
   "codemirror_mode": {
    "name": "ipython",
    "version": 3
   },
   "file_extension": ".py",
   "mimetype": "text/x-python",
   "name": "python",
   "nbconvert_exporter": "python",
   "pygments_lexer": "ipython3",
   "version": "3.9.18"
  }
 },
 "nbformat": 4,
 "nbformat_minor": 5
}
